{
 "cells": [
  {
   "cell_type": "markdown",
   "metadata": {},
   "source": [
    "# Ejercicio1 - Utilizar operadores aritméticos"
   ]
  },
  {
   "cell_type": "markdown",
   "metadata": {},
   "source": [
    "### Operadores aritméticos en Python\n",
    "Python proporciona operadores aritméticos comunes para que puedas realizar operaciones matemáticas en tu código. Estos incluyen las cuatro operaciones principales de suma, resta, multiplicación y división.\n",
    "\n",
    "Exploremos cómo podemos crear un programa que pueda calcular la distancia entre dos planetas.  Comenzaremos usando dos distancias de planetas: Tierra (149.597.870 km) y Júpiter (778.547.200 km).\n",
    "\n",
    "> **TIP**\n",
    "> Dedica unos minutos a tratar de encontrar una solución. Luego desplázate hacia abajo hasta la parte inferior para ver si has logrado compilar el programa de acuerdo con las especificaciones.\n",
    "\n",
    "**Nota:** Quita las comas cuando uses los valores."
   ]
  },
  {
   "cell_type": "code",
   "execution_count": 9,
   "metadata": {},
   "outputs": [
    {
     "name": "stdout",
     "output_type": "stream",
     "text": [
      "390577533.93\n"
     ]
    }
   ],
   "source": [
    "# Declaramos las variables\n",
    "\n",
    "distancia_p1 = 628949330\n",
    "distancia_p2 = 390577534\n",
    "\n",
    "# Calculamos la distnacia\n",
    "distancia_km = abs(distancia_tierra - distancia_jupiter)\n",
    "\n",
    "# Convertimos las unidades\n",
    "distancia_millas = distancia_km * 0.621\n",
    "\n",
    "print(distancia_millas)"
   ]
  },
  {
   "cell_type": "markdown",
   "metadata": {},
   "source": [
    "### Ejercicio 2"
   ]
  },
  {
   "cell_type": "code",
   "execution_count": 12,
   "metadata": {},
   "outputs": [
    {
     "name": "stdout",
     "output_type": "stream",
     "text": [
      "***La distancia en kilometros es 50300000.0\n",
      "***La distancia en millas es 31236300.0\n"
     ]
    }
   ],
   "source": [
    "# Creamos el otro programa\n",
    "try:\n",
    "    # Tomamos los datos\n",
    "    planeta1 = float(input('Introduce la distancia del sol al planeta 1 en kilometros \\n'))\n",
    "    planeta2 = float(input('Introduce la distancia del sol al planeta 2 en kilometros \\n'))\n",
    "\n",
    "    # Calculamos la distancia\n",
    "    distancia_km = abs(planeta1 - planeta2)\n",
    "\n",
    "    # Convertimos las unidades\n",
    "    distancia_millas = distancia_km * 0.621\n",
    "\n",
    "    print(f'***La distancia en kilometros es {distancia_km}')\n",
    "    print(f'***La distancia en millas es {distancia_millas}')\n",
    "except ValueError:\n",
    "    print('Lo siento, los datos ingresados no son números')\n",
    "\n"
   ]
  },
  {
   "cell_type": "code",
   "execution_count": null,
   "metadata": {},
   "outputs": [],
   "source": []
  }
 ],
 "metadata": {
  "interpreter": {
   "hash": "b89b5cfaba6639976dc87ff2fec6d58faec662063367e2c229c520fe71072417"
  },
  "kernelspec": {
   "display_name": "Python 3.10.2 64-bit",
   "language": "python",
   "name": "python3"
  },
  "language_info": {
   "codemirror_mode": {
    "name": "ipython",
    "version": 3
   },
   "file_extension": ".py",
   "mimetype": "text/x-python",
   "name": "python",
   "nbconvert_exporter": "python",
   "pygments_lexer": "ipython3",
   "version": "3.10.2"
  },
  "orig_nbformat": 4
 },
 "nbformat": 4,
 "nbformat_minor": 2
}
