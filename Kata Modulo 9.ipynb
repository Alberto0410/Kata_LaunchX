{
 "cells": [
  {
   "cell_type": "markdown",
   "metadata": {},
   "source": [
    "# Ejercicio: Uso de funciones en Python"
   ]
  },
  {
   "cell_type": "markdown",
   "metadata": {},
   "source": [
    "### Ejercicio 1: Trabajar con argumentos en funciones\n",
    "\n",
    "Los argumentos requeridos en las funciones se utilizan cuando las funciones necesitan que esos argumentos funcionen correctamente. En este ejercicio, construirás un informe de combustible que requiere información de varias ubicaciones de combustible en todo el cohete.\n",
    "\n"
   ]
  },
  {
   "cell_type": "markdown",
   "metadata": {},
   "source": [
    "> **TIP**\n",
    "> Dedica unos minutos para tratar de encontrar una solución. Luego desplázate hacia abajo hasta la parte inferior para ver si has logrado compilar el programa de acuerdo con las especificaciones\n",
    "\n",
    "Comienza por crear una función que necesite tres lecturas de combustible y devuelva un informe:"
   ]
  },
  {
   "cell_type": "code",
   "execution_count": 12,
   "metadata": {},
   "outputs": [],
   "source": [
    "# Creamos la primera funcion\n",
    "def lecture(tank1, tank2, tank3):\n",
    "    average = (tank1 + tank2 + tank3)/3\n",
    "\n",
    "    return f'''\n",
    "    ***REPORT***\n",
    "    Average: {average}%\n",
    "    First tank: {tank1}%\n",
    "    Second tank: {tank2}%\n",
    "    Third tank: {tank3}&     \n",
    "    '''"
   ]
  },
  {
   "cell_type": "markdown",
   "metadata": {},
   "source": [
    "Ahora que hemos definido la función de informes, vamos a comprobarlo. Para esta misión, los tanques no están llenos:"
   ]
  },
  {
   "cell_type": "code",
   "execution_count": 13,
   "metadata": {},
   "outputs": [
    {
     "name": "stdout",
     "output_type": "stream",
     "text": [
      "\n",
      "    ***REPORT***\n",
      "    Average: 63.333333333333336%\n",
      "    First tank: 90%\n",
      "    Second tank: 30%\n",
      "    Third tank: 70&     \n",
      "    \n"
     ]
    }
   ],
   "source": [
    "print(lecture(90, 30, 70))"
   ]
  },
  {
   "cell_type": "markdown",
   "metadata": {},
   "source": [
    "En lugar de simplemente crear el informe, la función también está calculando el promedio. Mejora la legibilidad extrayendo el cálculo promedio de la función en una nueva función para que el promedio se pueda hacer de forma independiente:"
   ]
  },
  {
   "cell_type": "code",
   "execution_count": 15,
   "metadata": {},
   "outputs": [],
   "source": [
    "def average(tank1, tank2, tank3):\n",
    "    return (tank1 + tank2 + tank3)/3"
   ]
  },
  {
   "cell_type": "markdown",
   "metadata": {},
   "source": [
    "Ahora actualiza la función de informes para llamando a la nueva función del promedio:\n"
   ]
  },
  {
   "cell_type": "code",
   "execution_count": 17,
   "metadata": {},
   "outputs": [
    {
     "name": "stdout",
     "output_type": "stream",
     "text": [
      "\n",
      "    ***REPORT***\n",
      "    Average: 78.0%\n",
      "    First tank: 88%\n",
      "    Second tank: 76%\n",
      "    Third tank: 70&     \n",
      "    \n"
     ]
    }
   ],
   "source": [
    "# Creamos la primera funcion\n",
    "def lecture(tank1, tank2, tank3):\n",
    "    return f'''\n",
    "    ***REPORT***\n",
    "    Average: {average(tank1, tank2, tank3)}%\n",
    "    First tank: {tank1}%\n",
    "    Second tank: {tank2}%\n",
    "    Third tank: {tank3}&     \n",
    "    '''\n",
    "\n",
    "print(lecture(88, 76, 70))"
   ]
  },
  {
   "cell_type": "markdown",
   "metadata": {},
   "source": [
    "## Ejercicio 2: Trabajo con argumentos de palabra clave"
   ]
  },
  {
   "cell_type": "markdown",
   "metadata": {},
   "source": [
    "### Ejercicio : Trabajar con argumentos de palabras clave en funciones\n",
    "En este ejercicio, construirás un informe de cohete que requiere varias piezas de información, como el tiempo hasta el destino, el combustible a la izquierda y el nombre del destino. Comienza por crear una función que creará un informe preciso de la misión:"
   ]
  },
  {
   "cell_type": "code",
   "execution_count": 18,
   "metadata": {},
   "outputs": [],
   "source": [
    "def inform(time, fuel, destination):\n",
    "    return f'''\n",
    "    ***INFORM***\n",
    "    Travel time (minutes): {time}\n",
    "    Fuel required (gallons): {fuel}\n",
    "    Place of destination: {destination}\n",
    "    '''"
   ]
  },
  {
   "cell_type": "markdown",
   "metadata": {},
   "source": [
    "La función es problemática porque no se puede adaptar para minutos adicionales o tanques adicionales de combustible. Hazlo más flexible permitiendo cualquier número de pasos basados en el tiempo y cualquier número de tanques. En lugar de usar `*args` y `**kwargs`, aprovecha el hecho de que puedes usar cualquier nombre que desees. Asegurate que la función sea más legible mediante el uso de nombres de variables que están asociados con las entradas, como `*minutes` y `**fuel_reservoirs`:"
   ]
  },
  {
   "cell_type": "code",
   "execution_count": 31,
   "metadata": {},
   "outputs": [
    {
     "name": "stdout",
     "output_type": "stream",
     "text": [
      "\n",
      "    ***INFORM***\n",
      "    Place of destination: Moon\n",
      "    Travel time (minutes): 76\n",
      "    Fuel required (gallons): 500000\n",
      "    \n",
      "    \n"
     ]
    }
   ],
   "source": [
    "def inform(destination, *minutes, **fuel):\n",
    "    return f'''\n",
    "    ***INFORM***\n",
    "    Place of destination: {destination}\n",
    "    Travel time (minutes): {sum(minutes)}\n",
    "    Fuel required (gallons): {sum(fuel.values())}\n",
    "    \n",
    "    '''\n",
    "\n",
    "print(inform(\"Moon\", 10, 15, 51, First_tank=300000, Second_tank=200000))"
   ]
  },
  {
   "cell_type": "markdown",
   "metadata": {},
   "source": [
    "Debido a que el combustible que queda en los tanques es específico de cada tanque, actualiza la función para usar el nombre de cada tanque en el informe:"
   ]
  },
  {
   "cell_type": "code",
   "execution_count": 32,
   "metadata": {},
   "outputs": [
    {
     "name": "stdout",
     "output_type": "stream",
     "text": [
      "\n",
      "    ***INFORM***\n",
      "    Place of destination: Moon\n",
      "    Travel time (minutes): 76\n",
      "    Fuel required (gallons): 550000\n",
      "    \n",
      "    First_tank has 300000 gallons left Second_tank has 200000 gallons left Third_tank has 50000 gallons left \n"
     ]
    }
   ],
   "source": [
    "def inform(destination, *minutes, **fuel):\n",
    "    inform1 = f'''\n",
    "    ***INFORM***\n",
    "    Place of destination: {destination}\n",
    "    Travel time (minutes): {sum(minutes)}\n",
    "    Fuel required (gallons): {sum(fuel.values())}\n",
    "    \n",
    "    '''\n",
    "\n",
    "    for tank, gallons in fuel.items():\n",
    "        inform1 += f'{tank} has {gallons} gallons left '\n",
    "    \n",
    "    return inform1\n",
    "print(inform(\"Moon\", 10, 15, 51, First_tank=300000, Second_tank=200000, Third_tank = 50000))"
   ]
  }
 ],
 "metadata": {
  "interpreter": {
   "hash": "b89b5cfaba6639976dc87ff2fec6d58faec662063367e2c229c520fe71072417"
  },
  "kernelspec": {
   "display_name": "Python 3.10.2 64-bit",
   "language": "python",
   "name": "python3"
  },
  "language_info": {
   "codemirror_mode": {
    "name": "ipython",
    "version": 3
   },
   "file_extension": ".py",
   "mimetype": "text/x-python",
   "name": "python",
   "nbconvert_exporter": "python",
   "pygments_lexer": "ipython3",
   "version": "3.10.2"
  },
  "orig_nbformat": 4
 },
 "nbformat": 4,
 "nbformat_minor": 2
}
