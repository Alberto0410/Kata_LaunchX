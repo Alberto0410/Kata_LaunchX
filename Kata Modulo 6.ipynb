{
 "cells": [
  {
   "cell_type": "markdown",
   "metadata": {},
   "source": [
    "# Ejercicio1: Crear y usar listas de Python\n"
   ]
  },
  {
   "cell_type": "markdown",
   "metadata": {},
   "source": [
    "### Ejercicio: Usar listas para almacenar nombres de planetas\n",
    "Las listas permiten almacenar varios valores en una sola variable. Comenzarás un proyecto sobre información planetaria creando una lista de planetas.\n",
    "\n",
    "> **TIP**\n",
    "> Dedica unos minutos para tratar de encontrar una solución. Luego desplázate hacia abajo hasta la parte inferior para ver si has logrado compilar el programa de acuerdo con las especificaciones"
   ]
  },
  {
   "cell_type": "code",
   "execution_count": 1,
   "metadata": {},
   "outputs": [
    {
     "name": "stdout",
     "output_type": "stream",
     "text": [
      "['Mercurio', 'Venus', 'Tierra', 'Marte', 'Jupiter', 'Saturno', 'Urano', 'Neptuno']\n"
     ]
    }
   ],
   "source": [
    "planets = ['Mercurio', 'Venus', 'Tierra', 'Marte', 'Jupiter',\n",
    "            'Saturno', 'Urano', 'Neptuno']\n",
    "print(planets)"
   ]
  },
  {
   "cell_type": "code",
   "execution_count": 2,
   "metadata": {},
   "outputs": [
    {
     "name": "stdout",
     "output_type": "stream",
     "text": [
      "['Mercurio', 'Venus', 'Tierra', 'Marte', 'Jupiter', 'Saturno', 'Urano', 'Neptuno', 'Plutón']\n"
     ]
    }
   ],
   "source": [
    "planets.append('Plutón')\n",
    "print(planets)"
   ]
  },
  {
   "cell_type": "markdown",
   "metadata": {},
   "source": [
    "## Ejercicio 2: Trabajando con datos de una lista\n",
    "\n",
    "### Usar slices para recuperar partes de una lista"
   ]
  },
  {
   "cell_type": "code",
   "execution_count": 3,
   "metadata": {},
   "outputs": [],
   "source": [
    "planets = ['Mercury', 'Venus', 'Earth', 'Mars', 'Jupiter', 'Saturn', 'Neptune']"
   ]
  },
  {
   "cell_type": "code",
   "execution_count": 7,
   "metadata": {},
   "outputs": [],
   "source": [
    "# Solicitamos el planeta al ususario\n",
    "planeta_usuario = input('Escribe el nombre del planeta por favor').title()\n",
    "\n",
    "# Obtenemos el indice\n",
    "indice = planets.index(planeta_usuario)\n"
   ]
  },
  {
   "cell_type": "code",
   "execution_count": 8,
   "metadata": {},
   "outputs": [
    {
     "name": "stdout",
     "output_type": "stream",
     "text": [
      "Estos son los planetas que están más cerca del Sol que Jupiter\n",
      "['Mercury', 'Venus', 'Earth', 'Mars']\n"
     ]
    }
   ],
   "source": [
    "# Los planetas que estan mas cerca del sol que el\n",
    "#  ingresado por el ususario\n",
    "\n",
    "print(f'Estos son los planetas que están más cerca del Sol que {planeta_usuario}')\n",
    "print(planets[:indice])"
   ]
  },
  {
   "cell_type": "code",
   "execution_count": 9,
   "metadata": {},
   "outputs": [
    {
     "name": "stdout",
     "output_type": "stream",
     "text": [
      "Estos son los planetas que están más lejos del Sol que Jupiter\n",
      "['Saturn', 'Neptune']\n"
     ]
    }
   ],
   "source": [
    "# Los planetas que estan mas lejos del sol que el\n",
    "#  ingresado por el ususario\n",
    "\n",
    "print(f'Estos son los planetas que están más lejos del Sol que {planeta_usuario}')\n",
    "print(planets[indice + 1:])"
   ]
  }
 ],
 "metadata": {
  "interpreter": {
   "hash": "b89b5cfaba6639976dc87ff2fec6d58faec662063367e2c229c520fe71072417"
  },
  "kernelspec": {
   "display_name": "Python 3.10.2 64-bit",
   "language": "python",
   "name": "python3"
  },
  "language_info": {
   "codemirror_mode": {
    "name": "ipython",
    "version": 3
   },
   "file_extension": ".py",
   "mimetype": "text/x-python",
   "name": "python",
   "nbconvert_exporter": "python",
   "pygments_lexer": "ipython3",
   "version": "3.10.2"
  },
  "orig_nbformat": 4
 },
 "nbformat": 4,
 "nbformat_minor": 2
}
